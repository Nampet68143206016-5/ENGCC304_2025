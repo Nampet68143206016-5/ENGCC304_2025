{
  "cells": [
    {
      "cell_type": "markdown",
      "metadata": {
        "id": "view-in-github",
        "colab_type": "text"
      },
      "source": [
        "<a href=\"https://colab.research.google.com/github/Nampet68143206016-5/ENGCC304_2025/blob/main/68143206016-5/Assignment1_68143206016-5.ipynb\" target=\"_parent\"><img src=\"https://colab.research.google.com/assets/colab-badge.svg\" alt=\"Open In Colab\"/></a>"
      ]
    },
    {
      "cell_type": "code",
      "source": [
        "print(\"68143206016-5_นายน้ำเพชร ศุภมาศมงคล\")"
      ],
      "metadata": {
        "id": "trBomQ1rPiRx",
        "outputId": "c0fe2fd9-3e0f-4047-b443-5a944863d198",
        "colab": {
          "base_uri": "https://localhost:8080/"
        }
      },
      "execution_count": 1,
      "outputs": [
        {
          "output_type": "stream",
          "name": "stdout",
          "text": [
            "68143206016-5_นายน้ำเพชร ศุภมาศมงคล\n"
          ]
        }
      ]
    }
  ],
  "metadata": {
    "colab": {
      "name": "Welcome To Colab",
      "toc_visible": true,
      "provenance": [],
      "include_colab_link": true
    },
    "kernelspec": {
      "display_name": "Python 3",
      "name": "python3"
    }
  },
  "nbformat": 4,
  "nbformat_minor": 0
}